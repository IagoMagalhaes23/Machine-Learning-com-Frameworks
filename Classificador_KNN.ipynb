{
  "nbformat": 4,
  "nbformat_minor": 0,
  "metadata": {
    "colab": {
      "name": "Classificador_KNN.ipynb",
      "provenance": [],
      "authorship_tag": "ABX9TyOiSCPFK1IM0pqEV8XM/oYX",
      "include_colab_link": true
    },
    "kernelspec": {
      "name": "python3",
      "display_name": "Python 3"
    },
    "language_info": {
      "name": "python"
    }
  },
  "cells": [
    {
      "cell_type": "markdown",
      "metadata": {
        "id": "view-in-github",
        "colab_type": "text"
      },
      "source": [
        "<a href=\"https://colab.research.google.com/github/IagoMagalhaes23/Machine-Learning-com-Frameworks/blob/main/Classificador_KNN.ipynb\" target=\"_parent\"><img src=\"https://colab.research.google.com/assets/colab-badge.svg\" alt=\"Open In Colab\"/></a>"
      ]
    },
    {
      "cell_type": "markdown",
      "metadata": {
        "id": "Q7GFn9kF1TYo"
      },
      "source": [
        "#Algoritmo KNN para classificação - KNearest Neighbors"
      ]
    },
    {
      "cell_type": "markdown",
      "metadata": {
        "id": "ZjZyQToq1eTO"
      },
      "source": [
        "##Importação da bibliotecas"
      ]
    },
    {
      "cell_type": "code",
      "metadata": {
        "id": "dv1uPGty1JX6"
      },
      "source": [
        "import numpy as np\n",
        "import matplotlib.pyplot as plt\n",
        "import pandas as pd\n",
        "from sklearn import neighbors\n",
        "from sklearn import datasets\n",
        "from sklearn.model_selection import train_test_split\n",
        "from sklearn.neighbors import KNeighborsClassifier\n",
        "from sklearn import metrics\n",
        "from sklearn.model_selection import GridSearchCV"
      ],
      "execution_count": 1,
      "outputs": []
    },
    {
      "cell_type": "markdown",
      "metadata": {
        "id": "wDnUyiX51jkb"
      },
      "source": [
        "##Carregando a base de dados através do Sklearn"
      ]
    },
    {
      "cell_type": "code",
      "metadata": {
        "id": "93RDXIyN1mR-"
      },
      "source": [
        "wine = datasets.load_wine()"
      ],
      "execution_count": 2,
      "outputs": []
    },
    {
      "cell_type": "markdown",
      "metadata": {
        "id": "NUjBWplL1oFT"
      },
      "source": [
        "##Lendo a base de dados com o Pandas"
      ]
    },
    {
      "cell_type": "code",
      "metadata": {
        "colab": {
          "base_uri": "https://localhost:8080/",
          "height": 483
        },
        "id": "M-XYxtEd1tWb",
        "outputId": "eacac6c6-f9a5-4df1-df6b-cc86b756e09d"
      },
      "source": [
        "# Criando o DataFrame\n",
        "df_wine = pd.DataFrame(data=wine.data,columns=wine.feature_names)\n",
        "# Criando a coluna com os valores da variável target.\n",
        "df_wine['class'] = wine.target\n",
        "\n",
        "df_wine.head().T"
      ],
      "execution_count": 3,
      "outputs": [
        {
          "output_type": "execute_result",
          "data": {
            "text/html": [
              "<div>\n",
              "<style scoped>\n",
              "    .dataframe tbody tr th:only-of-type {\n",
              "        vertical-align: middle;\n",
              "    }\n",
              "\n",
              "    .dataframe tbody tr th {\n",
              "        vertical-align: top;\n",
              "    }\n",
              "\n",
              "    .dataframe thead th {\n",
              "        text-align: right;\n",
              "    }\n",
              "</style>\n",
              "<table border=\"1\" class=\"dataframe\">\n",
              "  <thead>\n",
              "    <tr style=\"text-align: right;\">\n",
              "      <th></th>\n",
              "      <th>0</th>\n",
              "      <th>1</th>\n",
              "      <th>2</th>\n",
              "      <th>3</th>\n",
              "      <th>4</th>\n",
              "    </tr>\n",
              "  </thead>\n",
              "  <tbody>\n",
              "    <tr>\n",
              "      <th>alcohol</th>\n",
              "      <td>14.23</td>\n",
              "      <td>13.20</td>\n",
              "      <td>13.16</td>\n",
              "      <td>14.37</td>\n",
              "      <td>13.24</td>\n",
              "    </tr>\n",
              "    <tr>\n",
              "      <th>malic_acid</th>\n",
              "      <td>1.71</td>\n",
              "      <td>1.78</td>\n",
              "      <td>2.36</td>\n",
              "      <td>1.95</td>\n",
              "      <td>2.59</td>\n",
              "    </tr>\n",
              "    <tr>\n",
              "      <th>ash</th>\n",
              "      <td>2.43</td>\n",
              "      <td>2.14</td>\n",
              "      <td>2.67</td>\n",
              "      <td>2.50</td>\n",
              "      <td>2.87</td>\n",
              "    </tr>\n",
              "    <tr>\n",
              "      <th>alcalinity_of_ash</th>\n",
              "      <td>15.60</td>\n",
              "      <td>11.20</td>\n",
              "      <td>18.60</td>\n",
              "      <td>16.80</td>\n",
              "      <td>21.00</td>\n",
              "    </tr>\n",
              "    <tr>\n",
              "      <th>magnesium</th>\n",
              "      <td>127.00</td>\n",
              "      <td>100.00</td>\n",
              "      <td>101.00</td>\n",
              "      <td>113.00</td>\n",
              "      <td>118.00</td>\n",
              "    </tr>\n",
              "    <tr>\n",
              "      <th>total_phenols</th>\n",
              "      <td>2.80</td>\n",
              "      <td>2.65</td>\n",
              "      <td>2.80</td>\n",
              "      <td>3.85</td>\n",
              "      <td>2.80</td>\n",
              "    </tr>\n",
              "    <tr>\n",
              "      <th>flavanoids</th>\n",
              "      <td>3.06</td>\n",
              "      <td>2.76</td>\n",
              "      <td>3.24</td>\n",
              "      <td>3.49</td>\n",
              "      <td>2.69</td>\n",
              "    </tr>\n",
              "    <tr>\n",
              "      <th>nonflavanoid_phenols</th>\n",
              "      <td>0.28</td>\n",
              "      <td>0.26</td>\n",
              "      <td>0.30</td>\n",
              "      <td>0.24</td>\n",
              "      <td>0.39</td>\n",
              "    </tr>\n",
              "    <tr>\n",
              "      <th>proanthocyanins</th>\n",
              "      <td>2.29</td>\n",
              "      <td>1.28</td>\n",
              "      <td>2.81</td>\n",
              "      <td>2.18</td>\n",
              "      <td>1.82</td>\n",
              "    </tr>\n",
              "    <tr>\n",
              "      <th>color_intensity</th>\n",
              "      <td>5.64</td>\n",
              "      <td>4.38</td>\n",
              "      <td>5.68</td>\n",
              "      <td>7.80</td>\n",
              "      <td>4.32</td>\n",
              "    </tr>\n",
              "    <tr>\n",
              "      <th>hue</th>\n",
              "      <td>1.04</td>\n",
              "      <td>1.05</td>\n",
              "      <td>1.03</td>\n",
              "      <td>0.86</td>\n",
              "      <td>1.04</td>\n",
              "    </tr>\n",
              "    <tr>\n",
              "      <th>od280/od315_of_diluted_wines</th>\n",
              "      <td>3.92</td>\n",
              "      <td>3.40</td>\n",
              "      <td>3.17</td>\n",
              "      <td>3.45</td>\n",
              "      <td>2.93</td>\n",
              "    </tr>\n",
              "    <tr>\n",
              "      <th>proline</th>\n",
              "      <td>1065.00</td>\n",
              "      <td>1050.00</td>\n",
              "      <td>1185.00</td>\n",
              "      <td>1480.00</td>\n",
              "      <td>735.00</td>\n",
              "    </tr>\n",
              "    <tr>\n",
              "      <th>class</th>\n",
              "      <td>0.00</td>\n",
              "      <td>0.00</td>\n",
              "      <td>0.00</td>\n",
              "      <td>0.00</td>\n",
              "      <td>0.00</td>\n",
              "    </tr>\n",
              "  </tbody>\n",
              "</table>\n",
              "</div>"
            ],
            "text/plain": [
              "                                    0        1        2        3       4\n",
              "alcohol                         14.23    13.20    13.16    14.37   13.24\n",
              "malic_acid                       1.71     1.78     2.36     1.95    2.59\n",
              "ash                              2.43     2.14     2.67     2.50    2.87\n",
              "alcalinity_of_ash               15.60    11.20    18.60    16.80   21.00\n",
              "magnesium                      127.00   100.00   101.00   113.00  118.00\n",
              "total_phenols                    2.80     2.65     2.80     3.85    2.80\n",
              "flavanoids                       3.06     2.76     3.24     3.49    2.69\n",
              "nonflavanoid_phenols             0.28     0.26     0.30     0.24    0.39\n",
              "proanthocyanins                  2.29     1.28     2.81     2.18    1.82\n",
              "color_intensity                  5.64     4.38     5.68     7.80    4.32\n",
              "hue                              1.04     1.05     1.03     0.86    1.04\n",
              "od280/od315_of_diluted_wines     3.92     3.40     3.17     3.45    2.93\n",
              "proline                       1065.00  1050.00  1185.00  1480.00  735.00\n",
              "class                            0.00     0.00     0.00     0.00    0.00"
            ]
          },
          "metadata": {},
          "execution_count": 3
        }
      ]
    },
    {
      "cell_type": "markdown",
      "metadata": {
        "id": "t71sELf31uC7"
      },
      "source": [
        "##Verificando informações da base de dados"
      ]
    },
    {
      "cell_type": "code",
      "metadata": {
        "colab": {
          "base_uri": "https://localhost:8080/"
        },
        "id": "tL8fcOOl12d2",
        "outputId": "861be86d-1008-4712-fcd5-ca3ab5e5f924"
      },
      "source": [
        "df_wine.info()"
      ],
      "execution_count": 4,
      "outputs": [
        {
          "output_type": "stream",
          "name": "stdout",
          "text": [
            "<class 'pandas.core.frame.DataFrame'>\n",
            "RangeIndex: 178 entries, 0 to 177\n",
            "Data columns (total 14 columns):\n",
            " #   Column                        Non-Null Count  Dtype  \n",
            "---  ------                        --------------  -----  \n",
            " 0   alcohol                       178 non-null    float64\n",
            " 1   malic_acid                    178 non-null    float64\n",
            " 2   ash                           178 non-null    float64\n",
            " 3   alcalinity_of_ash             178 non-null    float64\n",
            " 4   magnesium                     178 non-null    float64\n",
            " 5   total_phenols                 178 non-null    float64\n",
            " 6   flavanoids                    178 non-null    float64\n",
            " 7   nonflavanoid_phenols          178 non-null    float64\n",
            " 8   proanthocyanins               178 non-null    float64\n",
            " 9   color_intensity               178 non-null    float64\n",
            " 10  hue                           178 non-null    float64\n",
            " 11  od280/od315_of_diluted_wines  178 non-null    float64\n",
            " 12  proline                       178 non-null    float64\n",
            " 13  class                         178 non-null    int64  \n",
            "dtypes: float64(13), int64(1)\n",
            "memory usage: 19.6 KB\n"
          ]
        }
      ]
    },
    {
      "cell_type": "code",
      "metadata": {
        "colab": {
          "base_uri": "https://localhost:8080/"
        },
        "id": "MOvOaZCt13OC",
        "outputId": "12f142f4-37cb-4102-8281-62649fb7f344"
      },
      "source": [
        "df_wine['class'].value_counts()"
      ],
      "execution_count": 5,
      "outputs": [
        {
          "output_type": "execute_result",
          "data": {
            "text/plain": [
              "1    71\n",
              "0    59\n",
              "2    48\n",
              "Name: class, dtype: int64"
            ]
          },
          "metadata": {},
          "execution_count": 5
        }
      ]
    },
    {
      "cell_type": "markdown",
      "metadata": {
        "id": "XKsIsdxt15Zs"
      },
      "source": [
        "##Separando os dados de treino e teste"
      ]
    },
    {
      "cell_type": "code",
      "metadata": {
        "id": "Dg1T3Dxe18A1"
      },
      "source": [
        "X_train, X_test, y_train, y_test = train_test_split(df_wine.drop('class',axis=1), df_wine['class'], test_size=0.3)"
      ],
      "execution_count": 6,
      "outputs": []
    },
    {
      "cell_type": "markdown",
      "metadata": {
        "id": "qt4xo-9n192k"
      },
      "source": [
        "##Alguns parâmetros interessantes:\n",
        "n_neighbors: Número de vizinhos (default = 5), é o parâmetro K que vimos na parte de funcionamento do algoritmo.\n",
        "\n",
        "Weights: Peso de amostras vizinhas (default = uniform).\n",
        "\n",
        "metric: Métrica utilizada para o cálculo de distância (default = minkowski), temos outras métricas como a distância Hamming, Manhattan e a Markowski.\n",
        "\n",
        "p: Parâmetro de poder para a métrica (default = 2), essa valor varia de acordo com a métrica de distância escolhida.\n",
        "\n",
        "n_jobs: Número de jobs paralelos para executar no momento da busca de vizinhos (default = 1). Com esse parâmetro podemos definir quantas cpu queremos usar para fazer o processo de predição."
      ]
    },
    {
      "cell_type": "markdown",
      "metadata": {
        "id": "B5vgfBvW2CmL"
      },
      "source": [
        "##Criando modelo e treinando modelo"
      ]
    },
    {
      "cell_type": "code",
      "metadata": {
        "colab": {
          "base_uri": "https://localhost:8080/"
        },
        "id": "bMXNxDWP2Fu7",
        "outputId": "75fc5a59-fe7c-4266-dd3d-68c21282ca92"
      },
      "source": [
        "# Definindo o número de vizinhos.\n",
        "knn = KNeighborsClassifier(n_neighbors=3) #O número de vizinhos é o número de classes\n",
        "\n",
        "knn.fit(X_train, y_train) #Realiza o treinamento do modelo"
      ],
      "execution_count": 7,
      "outputs": [
        {
          "output_type": "execute_result",
          "data": {
            "text/plain": [
              "KNeighborsClassifier(algorithm='auto', leaf_size=30, metric='minkowski',\n",
              "                     metric_params=None, n_jobs=None, n_neighbors=3, p=2,\n",
              "                     weights='uniform')"
            ]
          },
          "metadata": {},
          "execution_count": 7
        }
      ]
    },
    {
      "cell_type": "markdown",
      "metadata": {
        "id": "28aZ8mQQ2RlL"
      },
      "source": [
        "##Realizando predições"
      ]
    },
    {
      "cell_type": "code",
      "metadata": {
        "colab": {
          "base_uri": "https://localhost:8080/"
        },
        "id": "z0zx087F2SXS",
        "outputId": "51df59e5-6fcd-4621-900f-aa8dba79d6b5"
      },
      "source": [
        "resultado = knn.predict(X_test)\n",
        "resultado"
      ],
      "execution_count": 8,
      "outputs": [
        {
          "output_type": "execute_result",
          "data": {
            "text/plain": [
              "array([1, 0, 1, 0, 0, 0, 2, 2, 0, 0, 0, 2, 0, 1, 1, 1, 0, 0, 1, 1, 0, 1,\n",
              "       0, 0, 2, 2, 0, 1, 1, 0, 0, 0, 1, 1, 2, 2, 1, 0, 2, 2, 0, 0, 0, 1,\n",
              "       1, 1, 2, 1, 1, 0, 2, 2, 1, 0])"
            ]
          },
          "metadata": {},
          "execution_count": 8
        }
      ]
    },
    {
      "cell_type": "markdown",
      "metadata": {
        "id": "xv0pAWWJ2JTE"
      },
      "source": [
        "##Plotando matriz de confusão"
      ]
    },
    {
      "cell_type": "code",
      "metadata": {
        "colab": {
          "base_uri": "https://localhost:8080/"
        },
        "id": "UbVUYWrj2QyK",
        "outputId": "841d2c64-4575-4c47-a1c6-9ce794b01de4"
      },
      "source": [
        "print (pd.crosstab(y_test,resultado, rownames=['Real'], colnames=['Predito'], margins=True))"
      ],
      "execution_count": 9,
      "outputs": [
        {
          "output_type": "stream",
          "name": "stdout",
          "text": [
            "Predito   0   1   2  All\n",
            "Real                    \n",
            "0        20   0   0   20\n",
            "1         1  17   3   21\n",
            "2         2   2   9   13\n",
            "All      23  19  12   54\n"
          ]
        }
      ]
    },
    {
      "cell_type": "markdown",
      "metadata": {
        "id": "XWhwg3i02ZAO"
      },
      "source": [
        "##Plotando métricas de avaliações"
      ]
    },
    {
      "cell_type": "code",
      "metadata": {
        "colab": {
          "base_uri": "https://localhost:8080/"
        },
        "id": "2y3YVxLu2gi6",
        "outputId": "4b6e20d5-43fa-4650-f1cf-d62eff1ecc13"
      },
      "source": [
        "print(metrics.classification_report(y_test,resultado,target_names=wine.target_names))"
      ],
      "execution_count": 10,
      "outputs": [
        {
          "output_type": "stream",
          "name": "stdout",
          "text": [
            "              precision    recall  f1-score   support\n",
            "\n",
            "     class_0       0.87      1.00      0.93        20\n",
            "     class_1       0.89      0.81      0.85        21\n",
            "     class_2       0.75      0.69      0.72        13\n",
            "\n",
            "    accuracy                           0.85        54\n",
            "   macro avg       0.84      0.83      0.83        54\n",
            "weighted avg       0.85      0.85      0.85        54\n",
            "\n"
          ]
        }
      ]
    },
    {
      "cell_type": "markdown",
      "metadata": {
        "id": "quklsDgh2hQi"
      },
      "source": [
        "##Otimizando o parâmetro k utilizando o GridSearch"
      ]
    },
    {
      "cell_type": "code",
      "metadata": {
        "colab": {
          "base_uri": "https://localhost:8080/",
          "height": 408
        },
        "id": "afcV8jMe2j4K",
        "outputId": "269ccc10-24bb-4c39-c0f8-9277d62235fa"
      },
      "source": [
        "# Definindo a lista de valores.\n",
        "k_list = list(range(1,31))\n",
        "\n",
        "# Colocamos os valores em um dicionário\n",
        "parametros = dict(n_neighbors=k_list)\n",
        "\n",
        "grid = GridSearchCV(knn, parametros, cv=5, scoring='accuracy')\n",
        "\n",
        "grid.fit(df_wine.drop('class',axis=1),df_wine['class'])\n",
        "\n",
        "print(\"Melhores parametros {} com o valor de acurácia {} \".format(grid.best_params_,grid.best_score_))\n",
        "\n",
        "scores = grid.cv_results_\n",
        "#print(type(scores))\n",
        "#print(scores.items)\n",
        "set_dados = scores.setdefault('mean_test_score')\n",
        "#set_dados\n",
        "#print(scores.mean_test_score)\n",
        "plt.figure(figsize=(10,6))\n",
        "plt.plot(k_list, set_dados, color='red', linestyle='dashed', marker='o')"
      ],
      "execution_count": 11,
      "outputs": [
        {
          "output_type": "stream",
          "name": "stdout",
          "text": [
            "Melhores parametros {'n_neighbors': 1} com o valor de acurácia 0.7250793650793651 \n"
          ]
        },
        {
          "output_type": "execute_result",
          "data": {
            "text/plain": [
              "[<matplotlib.lines.Line2D at 0x7f7d40de0c90>]"
            ]
          },
          "metadata": {},
          "execution_count": 11
        },
        {
          "output_type": "display_data",
          "data": {
            "image/png": "[encoded data removed]",
            "text/plain": [
              "<Figure size 720x432 with 1 Axes>"
            ]
          },
          "metadata": {
            "needs_background": "light"
          }
        }
      ]
    }
  ]
}